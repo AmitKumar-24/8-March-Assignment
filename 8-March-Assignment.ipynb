{
 "cells": [
  {
   "cell_type": "markdown",
   "id": "a6968320-147e-4a2e-8b94-187bcfa36260",
   "metadata": {},
   "source": [
    "## Q1. What is the Probability density function?"
   ]
  },
  {
   "cell_type": "markdown",
   "id": "97c11c19-b19b-41d6-a013-547f4b7b75b9",
   "metadata": {},
   "source": [
    "A Probability Density Function (PDF) is a mathematical function that describes the relative likelihood of a continuous random variable taking on a given value. The PDF represents the distribution of probabilities for all possible values of the random variable, and the area under the curve of the PDF between any two values of the variable gives the probability of the variable taking a value within that range.\n",
    "\n",
    "The PDF can be thought of as a continuous version of a probability distribution. Unlike a discrete probability distribution, which assigns a probability to each possible value of a discrete random variable, the PDF assigns probabilities to ranges of possible values of a continuous random variable.\n",
    "\n",
    "Mathematically, the PDF is defined as the derivative of the cumulative distribution function (CDF) of the random variable. The PDF is non-negative and integrates to one over the entire range of the random variable."
   ]
  },
  {
   "cell_type": "markdown",
   "id": "3f8361ff-6fed-4773-a747-6a8324542142",
   "metadata": {},
   "source": [
    "## Q2. What are the types of Probability distribution?"
   ]
  },
  {
   "cell_type": "markdown",
   "id": "ea7c0e82-5e1c-434a-828f-9364f0c58677",
   "metadata": {},
   "source": [
    "There are many different types of probability distributions, but they can be broadly classified into two categories: discrete probability distributions and continuous probability distributions.\n",
    "\n",
    "Discrete Probability Distributions: Discrete probability distributions are used to describe the probability of occurrence of discrete random variables. Examples of discrete probability distributions include the Bernoulli distribution, binomial distribution, Poisson distribution, and geometric distribution.\n",
    "\n",
    "Continuous Probability Distributions: Continuous probability distributions are used to describe the probability of occurrence of continuous random variables. Examples of continuous probability distributions include the normal distribution, uniform distribution, exponential distribution, and beta distribution.\n",
    "\n",
    "The choice of probability distribution depends on the nature of the data and the specific problem at hand. The appropriate distribution should be chosen to accurately model the data and to make inferences and predictions about the population of interest."
   ]
  },
  {
   "cell_type": "markdown",
   "id": "b17f62ae-1325-45f3-950e-30391fc31969",
   "metadata": {},
   "source": [
    "## Q3. Write a Python function to calculate the probability density function of a normal distribution with given mean and standard deviation at a given point."
   ]
  },
  {
   "cell_type": "code",
   "execution_count": 3,
   "id": "c262ddc8-cb70-4b41-bc4d-a514858028fc",
   "metadata": {},
   "outputs": [
    {
     "name": "stdout",
     "output_type": "stream",
     "text": [
      "0.05399096651318806\n"
     ]
    }
   ],
   "source": [
    "import math\n",
    "def normal_pdf(x,mu,sigma):\n",
    "    '''\n",
    "    Calculate the probability density function of a normal distribution with mean mu and standard deviation sigma at the point x.\n",
    "    '''\n",
    "    exponent = -0.5 * ((x-mu)/ sigma) ** 2\n",
    "    coefficient = 1 / (sigma * math.sqrt(2 * math.pi))\n",
    "    return coefficient * math.exp(exponent)\n",
    "\n",
    "pdf_value = normal_pdf(2, 0,1)\n",
    "print(pdf_value)"
   ]
  },
  {
   "cell_type": "markdown",
   "id": "934c8e80-941a-4b61-8feb-5f4cdaa2c132",
   "metadata": {},
   "source": [
    "## Q4. What are the properties of Binomial distribution? Give two examples of events where binomial distribution can be applied."
   ]
  },
  {
   "cell_type": "markdown",
   "id": "d3cfbe4f-e967-4e90-b067-701180b5ce68",
   "metadata": {},
   "source": [
    "The binomial distribution is a discrete probability distribution that describes the probability of a fixed number of successes in a fixed number of independent Bernoulli trials, where each trial has the same probability of success.\n",
    "\n",
    "The properties of the binomial distribution are:\n",
    "\n",
    "1.Fixed number of trials: The number of trials is fixed and denoted by n.\n",
    "\n",
    "2.Independent trials: Each trial is independent of the others.\n",
    "\n",
    "3.Two possible outcomes: Each trial has only two possible outcomes, success or failure.\n",
    "\n",
    "4.Constant probability of success: The probability of success, denoted by p, is constant for all trials.\n",
    "\n",
    "5.Discrete values: The number of successes, denoted by k, is a discrete variable that takes values from 0 to n.\n",
    "\n",
    "Two examples of events where binomial distribution can be applied are:\n",
    "\n",
    "Tossing a Coin: When tossing a fair coin, there are two possible outcomes - heads or tails - with a fixed probability of 0.5 for each outcome. If we toss the coin n times and want to know the probability of getting k heads, we can model this as a binomial distribution with n trials, a probability of success of 0.5, and the number of successes k.\n",
    "\n",
    "Manufacturing Defects: A company manufactures electronic components that have a defect rate of 2%. If we randomly sample n components from the production line and want to know the probability that k of them are defective, we can model this as a binomial distribution with n trials, a probability of success of 0.02 (the probability of a component being defective), and the number of successes k.\n",
    "\n",
    "In both of these examples, the binomial distribution allows us to model the probability of a fixed number of successes in a fixed number of independent trials, where each trial has the same probability of success."
   ]
  },
  {
   "cell_type": "markdown",
   "id": "86d654a7-b239-4940-abfb-568ede7dcc50",
   "metadata": {},
   "source": [
    "## Q5. Generate a random sample of size 1000 from a binomial distribution with probability of success 0.4 and plot a histogram of the results using matplotlib."
   ]
  },
  {
   "cell_type": "code",
   "execution_count": 22,
   "id": "a8c982ce-1622-4cd6-b190-5a57b8e14d9c",
   "metadata": {},
   "outputs": [
    {
     "data": {
      "image/png": "[encoded data removed]",
      "text/plain": [
       "<Figure size 640x480 with 1 Axes>"
      ]
     },
     "metadata": {},
     "output_type": "display_data"
    }
   ],
   "source": [
    "import numpy as np\n",
    "import matplotlib.pyplot as plt\n",
    "\n",
    "# set the parameters of the biominal distribution\n",
    "n = 10\n",
    "p = 0.4\n",
    "\n",
    "# generate a random sample of size 1000 from the binominal distribution\n",
    "sample = np.random.binomial(n,p,size = 1000)\n",
    "\n",
    "# plot a histogram of the results\n",
    "plt.hist(sample,bins=range(n+1), align = 'left', rwidth=0.8)\n",
    "plt.xticks(range(n))\n",
    "plt.xlabel('Number of successes')\n",
    "plt.ylabel('Frequency')\n",
    "plt.title('Histogram of Binomial Distribution (n = {}, p = {})'.format(n,p))\n",
    "plt.show()"
   ]
  },
  {
   "cell_type": "markdown",
   "id": "634ae39a-5c74-440a-9f85-a4783c8bbba0",
   "metadata": {},
   "source": [
    "## Q6. Write a Python function to calculate the cumulative distribution function of a Poisson distribution with given mean at a given point.\n"
   ]
  },
  {
   "cell_type": "code",
   "execution_count": 1,
   "id": "0ab05602-12f1-4443-a9f7-aeece539890f",
   "metadata": {},
   "outputs": [
    {
     "name": "stdout",
     "output_type": "stream",
     "text": [
      "The cumulative distribution function of a poission distribution with mean 2.5 at point 3 is 0.7576\n"
     ]
    }
   ],
   "source": [
    "import math\n",
    "def poisson_cdf(mu,k):\n",
    "    cdf = 0.0\n",
    "    for i in range(k+1):\n",
    "        cdf += math.exp(-mu) * (mu ** i) / math.factorial(i)\n",
    "    return cdf\n",
    "mu = 2.5\n",
    "k = 3\n",
    "cdf = poisson_cdf(mu,k)\n",
    "print('The cumulative distribution function of a poission distribution with mean {} at point {} is {:.4f}'.format(mu, k, cdf))\n"
   ]
  },
  {
   "cell_type": "markdown",
   "id": "b9e3c2cc-a2ec-479a-a036-0862f94173b7",
   "metadata": {},
   "source": [
    "## Q7. How Binomial distribution different from Poisson distribution?"
   ]
  },
  {
   "cell_type": "markdown",
   "id": "dd8a2e50-57ac-463a-83cd-67c16ddb010f",
   "metadata": {},
   "source": [
    "Binomial distribution and Poisson distribution are both discrete probability distributions that describe the number of events that occur in a given number of trials. However, there are some key differences between the two distributions.\n",
    "\n",
    "Parameters: The Binomial distribution is characterized by two parameters: the number of trials n and the probability of success p. In contrast, the Poisson distribution is characterized by one parameter: the average rate λ at which events occur.\n",
    "\n",
    "Application: The Binomial distribution is used to model the number of successes in a fixed number of independent trials, where the probability of success is constant across all trials. The Poisson distribution, on the other hand, is used to model the number of rare events that occur over a fixed interval of time or space.\n",
    "\n",
    "Shape: The shape of the Binomial distribution is symmetric when p = 0.5, and becomes increasingly skewed as p approaches 0 or 1. In contrast, the Poisson distribution is typically skewed to the right, and becomes more symmetric as the rate parameter λ increases.\n",
    "\n",
    "Limitations: The Binomial distribution is appropriate when the number of trials n is large and the probability of success p is small, but the mean np is not too small. The Poisson distribution is appropriate when the rate parameter λ is small, but the product of the rate and the observation time or space is moderate to large.\n",
    "\n",
    "In summary, the main differences between the Binomial distribution and the Poisson distribution are the number of parameters, the application, the shape, and the limitations of the distributions."
   ]
  },
  {
   "cell_type": "markdown",
   "id": "0eaaa1e5-a2dc-483a-9e53-8a926052620a",
   "metadata": {},
   "source": [
    "## Q8. Generate a random sample of size 1000 from a Poisson distribution with mean 5 and calculate the sample mean and variance."
   ]
  },
  {
   "cell_type": "code",
   "execution_count": 3,
   "id": "0497357b-21b2-4579-bd4f-e2c44248b13d",
   "metadata": {},
   "outputs": [
    {
     "name": "stdout",
     "output_type": "stream",
     "text": [
      "Sample mean: 4.9190\n",
      "Sample variance: 5.0304\n"
     ]
    }
   ],
   "source": [
    "import numpy as np\n",
    "\n",
    "#set the random seed for reproducibility\n",
    "np.random.seed(123)\n",
    "\n",
    "#generate a random sample of size 1000 from a poisson distribution with mean 5\n",
    "sample = np.random.poisson(5,size = 1000)\n",
    "\n",
    "#calculate the sample mean and variance\n",
    "mean = np.mean(sample)\n",
    "variance = np.var(sample)\n",
    "\n",
    "print(\"Sample mean: {:.4f}\".format(mean))\n",
    "print(\"Sample variance: {:.4f}\".format(variance))"
   ]
  },
  {
   "cell_type": "markdown",
   "id": "104d9306-b38d-4244-ab87-02f6c3351989",
   "metadata": {},
   "source": [
    "## Q9. How mean and variance are related in Binomial distribution and Poisson distribution?"
   ]
  },
  {
   "cell_type": "markdown",
   "id": "51ed86ce-fc91-4954-9b8d-9437a164c9e5",
   "metadata": {},
   "source": [
    "In both the Binomial and Poisson distributions, the mean and variance are related in a similar way.\n",
    "\n",
    "For the Binomial distribution with parameters n and p, the mean is given by μ = np and the variance is given by σ^2 = np(1-p). Thus, the variance is a function of both the number of trials n and the probability of success p. As p gets closer to 0 or 1, the variance decreases, reflecting the fact that the distribution becomes increasingly concentrated around the mean.\n",
    "\n",
    "For the Poisson distribution with parameter λ, the mean is also given by μ = λ and the variance is also given by σ^2 = λ. Thus, the variance is a function of the rate parameter λ. As λ increases, the variance also increases, reflecting the fact that the distribution becomes more spread out around the mean.\n",
    "\n",
    "In both distributions, when the mean is large, the variance is also large, indicating that the distribution is more spread out. Conversely, when the mean is small, the variance is also small, indicating that the distribution is more tightly clustered around the mean.\n",
    "\n",
    "In summary, for both the Binomial and Poisson distributions, the variance is related to the mean in a way that reflects the degree of spread or concentration of the distribution."
   ]
  },
  {
   "cell_type": "markdown",
   "id": "c92ed2ea-12a4-4135-99d0-65f5dc5dd9d5",
   "metadata": {},
   "source": [
    "## Q10. In normal distribution with respect to mean position, where does the least frequent data appear?"
   ]
  },
  {
   "cell_type": "markdown",
   "id": "0e9be2a8-345b-4b75-94fb-7db0ed346372",
   "metadata": {},
   "source": [
    "In a normal distribution, the least frequent data appears at the tails of the distribution, farthest from the mean. This is because the normal distribution is symmetric and bell-shaped, with the majority of the data clustered around the mean. The tails of the distribution represent the extreme values that are less likely to occur, since they are located far away from the mean.\n",
    "\n",
    "Specifically, in a normal distribution with mean μ and standard deviation σ, the least frequent data appears at the values that are 3σ or more away from the mean in either direction. This is because about 99.7% of the data falls within 3σ of the mean, leaving only 0.3% of the data to be spread out across the tails of the distribution.\n",
    "\n",
    "Therefore, the least frequent data in a normal distribution appears at the extreme values that are located at the tails of the distribution, farthest from the mean.\n",
    "\n"
   ]
  },
  {
   "cell_type": "code",
   "execution_count": null,
   "id": "b27e2da9-8bdc-426b-b708-090ad3e2472d",
   "metadata": {},
   "outputs": [],
   "source": []
  }
 ],
 "metadata": {
  "kernelspec": {
   "display_name": "Python 3 (ipykernel)",
   "language": "python",
   "name": "python3"
  },
  "language_info": {
   "codemirror_mode": {
    "name": "ipython",
    "version": 3
   },
   "file_extension": ".py",
   "mimetype": "text/x-python",
   "name": "python",
   "nbconvert_exporter": "python",
   "pygments_lexer": "ipython3",
   "version": "3.10.8"
  }
 },
 "nbformat": 4,
 "nbformat_minor": 5
}
